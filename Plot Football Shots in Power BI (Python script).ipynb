{
 "cells": [
  {
   "cell_type": "code",
   "execution_count": null,
   "id": "20451465",
   "metadata": {},
   "outputs": [],
   "source": [
    "# Plotting Football shots\n",
    "#importing the libraries\n",
    "import numpy as np\n",
    "import pandas as pd\n",
    "import matplotlib.pyplot as plt\n",
    "from mplsoccer import Pitch\n",
    "\n",
    "df = dataset\n",
    "#creating a subset of the dataframe\n",
    "shots = df.loc[df['type_name'] == 'Shot'].set_index('id')\n",
    "#Getting the team names\n",
    "team1, team2 = shots.team_name.unique()\n",
    "\n",
    "#creating the pitch\n",
    "pitch = Pitch(line_color = '#130526', pitch_color ='#F2F2F2')\n",
    "fig, ax=pitch.draw()\n",
    "fig.set_facecolor('#F2F2F2')\n",
    "\n",
    "#setting the pitch size in yards\n",
    "pitchLengthX = 120\n",
    "pitchWidthY = 80\n",
    "\n",
    "#setting circle size\n",
    "\n",
    "#plotting the shots\n",
    "for i, shot in shots.iterrows():\n",
    "    x = shot['x']\n",
    "    y = shot['y']\n",
    "    #setting circle size\n",
    "    circleSize = 2\n",
    "    goal = shot['outcome_name'] == 'Goal'\n",
    "    team_name = shot['team_name']\n",
    "    if (team_name == team1):\n",
    "        if goal:\n",
    "            shotCircle = plt.Circle((x,y), circleSize, color ='blue')\n",
    "            plt.text(x+1, y-2, shot['player_name'])\n",
    "        else:\n",
    "            shotCircle = plt.Circle((x,y), circleSize, color='blue')\n",
    "            shotCircle.set_alpha(0.2)\n",
    "    else:\n",
    "        if goal:\n",
    "            shotCircle = plt.Circle((pitchLengthX-x, pitchWidthY-y), circleSize, color='red')\n",
    "            plt.text(pitchLengthX-x+1, pitchWidthY-y-2, shot['player_name'])\n",
    "        else:\n",
    "            shotCircle = plt.Circle((pitchLengthX-x, pitchWidthY-y), circleSize, color='red')\n",
    "            shotCircle.set_alpha(0.2)\n",
    "    ax.add_patch(shotCircle)\n",
    "fig.set_size_inches(10,7)\n",
    "plt.text(100,86, 'Data Source: StatsBomb')\n",
    "plt.title('Readings WFC (Red) Shots and  Chelsea FCW (Blue) Shots', fontsize = 20)\n",
    "plt.show()\n"
   ]
  }
 ],
 "metadata": {
  "kernelspec": {
   "display_name": "Python 3 (ipykernel)",
   "language": "python",
   "name": "python3"
  },
  "language_info": {
   "codemirror_mode": {
    "name": "ipython",
    "version": 3
   },
   "file_extension": ".py",
   "mimetype": "text/x-python",
   "name": "python",
   "nbconvert_exporter": "python",
   "pygments_lexer": "ipython3",
   "version": "3.11.4"
  }
 },
 "nbformat": 4,
 "nbformat_minor": 5
}
